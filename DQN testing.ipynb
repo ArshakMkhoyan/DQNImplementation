{
 "cells": [
  {
   "cell_type": "code",
   "execution_count": 1,
   "metadata": {},
   "outputs": [],
   "source": [
    "import os\n",
    "os.environ[\"CUDA_VISIBLE_DEVICES\"]=\"-1\" \n",
    "import tensorflow as tf\n",
    "import tensorflow.keras as keras\n",
    "from EnvPreprocessing import make_env\n",
    "from parameters import *\n",
    "from utils import evaluate\n",
    "from DQNAgent import DQNAgent\n",
    "import gym.wrappers\n",
    "from IPython.display import HTML\n",
    "import os"
   ]
  },
  {
   "cell_type": "code",
   "execution_count": 2,
   "metadata": {},
   "outputs": [
    {
     "name": "stdout",
     "output_type": "stream",
     "text": [
      "Loading the model\n",
      "WARNING:tensorflow:No training configuration found in save file: the model was *not* compiled. Compile it manually.\n"
     ]
    },
    {
     "data": {
      "text/html": [
       "\n",
       "<video width=\"640\" height=\"480\" controls>\n",
       "  <source src=\"./videos/openaigym.video.0.26403.video000000.mp4\" type=\"video/mp4\">\n",
       "</video>\n"
      ],
      "text/plain": [
       "<IPython.core.display.HTML object>"
      ]
     },
     "execution_count": 2,
     "metadata": {},
     "output_type": "execute_result"
    }
   ],
   "source": [
    "if GAME_NAME == 'BreakoutDeterministic-v4':\n",
    "    best_model_path = 'Best_models/Breakout.h5'\n",
    "elif GAME_NAME == 'SpaceInvadersDeterministic-v4':\n",
    "    best_model_path = 'Best_models/SpaceInvaders.h5'\n",
    "\n",
    "env = make_env(game_name=GAME_NAME, img_size=IMG_SIZE, make_grey=MAKE_GREY, crop=CROP_FUNC, n_frames=N_FRAMES)\n",
    "\n",
    "n_actions = env.action_space.n\n",
    "obs_shape = env.observation_space.shape\n",
    "\n",
    "tf.reset_default_graph()\n",
    "sess = tf.InteractiveSession()\n",
    "\n",
    "agent =  DQNAgent('main', input_shape=obs_shape, output_shape=n_actions, model_path=best_model_path, eps=0)\n",
    "\n",
    "env_monitor = gym.wrappers.Monitor(env, directory=\"videos\", force=True)\n",
    "sessions = evaluate(env_monitor, agent, n_games=1, n_random=2, \n",
    "                    breakout=True if GAME_NAME == 'BreakoutDeterministic-v4' else False)\n",
    "env_monitor.close()\n",
    "\n",
    "video_names = list(filter(lambda s:s.endswith(\".mp4\"),os.listdir(\"./videos/\")))\n",
    "\n",
    "HTML(\"\"\"\n",
    "<video width=\"640\" height=\"480\" controls>\n",
    "  <source src=\"{}\" type=\"video/mp4\">\n",
    "</video>\n",
    "\"\"\".format(\"./videos/\"+video_names[-1]))"
   ]
  },
  {
   "cell_type": "code",
   "execution_count": null,
   "metadata": {},
   "outputs": [],
   "source": []
  }
 ],
 "metadata": {
  "kernelspec": {
   "display_name": "Python 3",
   "language": "python",
   "name": "python3"
  },
  "language_info": {
   "codemirror_mode": {
    "name": "ipython",
    "version": 3
   },
   "file_extension": ".py",
   "mimetype": "text/x-python",
   "name": "python",
   "nbconvert_exporter": "python",
   "pygments_lexer": "ipython3",
   "version": "3.6.8"
  }
 },
 "nbformat": 4,
 "nbformat_minor": 2
}
